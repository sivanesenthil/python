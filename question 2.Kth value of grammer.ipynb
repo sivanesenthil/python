{
 "cells": [
  {
   "cell_type": "code",
   "execution_count": 1,
   "id": "d89499cc",
   "metadata": {},
   "outputs": [
    {
     "name": "stdout",
     "output_type": "stream",
     "text": [
      "Enter the value of n: 1\n",
      "Enter the value of k: 1\n",
      "0\n"
     ]
    }
   ],
   "source": [
    "def function(n, k):\n",
    "    if n == 1:\n",
    "        return 0\n",
    "    mid = 2 ** (n - 2)\n",
    "    if k <= mid:\n",
    "        return function(n - 1, k)\n",
    "    else:\n",
    "        return 1 - function(n - 1, k - mid)\n",
    "\n",
    "n = int(input(\"Enter the value of n: \"))\n",
    "k = int(input(\"Enter the value of k: \"))\n",
    "output = function(n, k)\n",
    "print(output)\n"
   ]
  },
  {
   "cell_type": "code",
   "execution_count": null,
   "id": "1ba8f2cb",
   "metadata": {},
   "outputs": [],
   "source": []
  }
 ],
 "metadata": {
  "kernelspec": {
   "display_name": "Python 3 (ipykernel)",
   "language": "python",
   "name": "python3"
  },
  "language_info": {
   "codemirror_mode": {
    "name": "ipython",
    "version": 3
   },
   "file_extension": ".py",
   "mimetype": "text/x-python",
   "name": "python",
   "nbconvert_exporter": "python",
   "pygments_lexer": "ipython3",
   "version": "3.9.13"
  }
 },
 "nbformat": 4,
 "nbformat_minor": 5
}
